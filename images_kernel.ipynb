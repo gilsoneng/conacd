{
 "cells": [
  {
   "cell_type": "code",
   "execution_count": null,
   "metadata": {},
   "outputs": [],
   "source": [
    "# -*- coding: utf-8 -*-\n",
    "\"\"\"\n",
    "Created on Fri Mar 26 20:58:10 2021\n",
    "\n",
    "@author: Gilson\n",
    "\"\"\"\n",
    "\n",
    "import cv2\n",
    "import numpy as np\n",
    "import matplotlib.pyplot as plt\n",
    "import pandas as pd\n",
    "import urllib.request"
   ]
  },
  {
   "cell_type": "code",
   "execution_count": null,
   "metadata": {
    "scrolled": true
   },
   "outputs": [],
   "source": [
    "url_download = 'https://s1.static.brasilescola.uol.com.br/be/conteudo/images/arara-azul.jpg'\n",
    "\n",
    "im_fname = urllib.request.urlretrieve(url_download,\"local-filename.jpg\")\n",
    "image = cv2.imread(\"local-filename.jpg\")\n",
    "image = cv2.cvtColor(image, cv2.COLOR_BGR2RGB)\n",
    "fig, ax = plt.subplots(1, figsize=(12,8))\n",
    "plt.imshow(image)\n",
    "\n"
   ]
  },
  {
   "cell_type": "code",
   "execution_count": null,
   "metadata": {},
   "outputs": [],
   "source": [
    "\n",
    "# ------------ Kernel box bloor ------------\n",
    "kernel = np.ones((3, 3), np.float32) / 9\n",
    "img = cv2.filter2D(image, -1, kernel)\n",
    "fig, ax = plt.subplots(1, figsize=(12,8))\n",
    "plt.imshow(img)\n",
    "# ------------------------------------------"
   ]
  },
  {
   "cell_type": "code",
   "execution_count": null,
   "metadata": {},
   "outputs": [],
   "source": [
    "\n",
    "# ------------ Kernel box bloor n------------\n",
    "kernel = np.ones((5, 5), np.float32) / 9\n",
    "img = cv2.filter2D(image, -1, kernel)\n",
    "fig, ax = plt.subplots(1, figsize=(12,8))\n",
    "plt.imshow(img)\n",
    "\n",
    "# ------------ Kernel box bloor ------------"
   ]
  },
  {
   "cell_type": "code",
   "execution_count": null,
   "metadata": {},
   "outputs": [],
   "source": [
    "\n",
    "# ------------- Kernel Sharpen -------------\n",
    "kernel = np.array([[0, -1, 0],\n",
    "                   [-1, 5, -1],\n",
    "                   [0, -1, 0]])\n",
    "img = cv2.filter2D(image, -1, kernel)\n",
    "fig, ax = plt.subplots(1, figsize=(12,8))\n",
    "plt.imshow(img)\n",
    "# ------------------------------------------\n"
   ]
  },
  {
   "cell_type": "code",
   "execution_count": null,
   "metadata": {},
   "outputs": [],
   "source": [
    "\n",
    "# ------------- Kernel Horizontal -------------\n",
    "kernel = np.array([[-1, 0, 1],\n",
    "                   [-2, 0, 2],\n",
    "                   [-1, 0, 1]])\n",
    "img = cv2.filter2D(image, -1, kernel)\n",
    "fig, ax = plt.subplots(1, figsize=(12,8))\n",
    "plt.imshow(img)\n",
    "# ---------------------------------------------\n"
   ]
  },
  {
   "cell_type": "code",
   "execution_count": null,
   "metadata": {},
   "outputs": [],
   "source": [
    "\n",
    "# -------------- Kernel Vertical --------------\n",
    "kernel = np.array([[-1, -2, -1],\n",
    "                   [0, 0, 0],\n",
    "                   [1, 2, 1]])\n",
    "img = cv2.filter2D(image, -1, kernel)\n",
    "fig, ax = plt.subplots(1, figsize=(12,8))\n",
    "plt.imshow(img)\n",
    "# ---------------------------------------------\n"
   ]
  },
  {
   "cell_type": "code",
   "execution_count": null,
   "metadata": {},
   "outputs": [],
   "source": [
    "\n",
    "# -------------- Kernel Laplacian --------------\n",
    "kernel = np.array([[-1, -1, -1],\n",
    "                   [-1,  8, -1],\n",
    "                   [-1, -1, -1]])\n",
    "img = cv2.filter2D(image, -1, kernel)\n",
    "fig, ax = plt.subplots(1, figsize=(12,8))\n",
    "plt.imshow(img)\n",
    "# ----------------------------------------------\n"
   ]
  },
  {
   "cell_type": "code",
   "execution_count": null,
   "metadata": {},
   "outputs": [],
   "source": [
    "\n",
    "# -------------- Kernel Laplacian --------------\n",
    "kernel = np.array([[0, -1, 0],\n",
    "                   [-1, 4, -1],\n",
    "                   [0, -1, 0]])\n",
    "img = cv2.filter2D(image, -1, kernel)\n",
    "fig, ax = plt.subplots(1, figsize=(12,8))\n",
    "plt.imshow(img)\n",
    "# ----------------------------------------------"
   ]
  },
  {
   "cell_type": "code",
   "execution_count": null,
   "metadata": {},
   "outputs": [],
   "source": []
  }
 ],
 "metadata": {
  "kernelspec": {
   "display_name": "Python 3",
   "language": "python",
   "name": "python3"
  },
  "language_info": {
   "codemirror_mode": {
    "name": "ipython",
    "version": 3
   },
   "file_extension": ".py",
   "mimetype": "text/x-python",
   "name": "python",
   "nbconvert_exporter": "python",
   "pygments_lexer": "ipython3",
   "version": "3.6.13"
  }
 },
 "nbformat": 4,
 "nbformat_minor": 4
}
